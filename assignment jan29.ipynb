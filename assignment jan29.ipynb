{
 "cells": [
  {
   "cell_type": "markdown",
   "id": "e9ffab0d-25b8-49ba-b10b-165eda887ac1",
   "metadata": {},
   "source": [
    "# Qn 1"
   ]
  },
  {
   "cell_type": "markdown",
   "id": "f487c7bf-44b5-4ee3-a588-a2e37f4fc6e2",
   "metadata": {},
   "source": [
    "\"\"\" Python programming language was developed by Guido Van Rossum \"\"\""
   ]
  },
  {
   "cell_type": "markdown",
   "id": "61095ab6-d7dd-474d-afac-d4bf216db3b0",
   "metadata": {},
   "source": [
    "# Qn 2"
   ]
  },
  {
   "cell_type": "markdown",
   "id": "07b3901d-da6d-4b23-bbf5-36c87c13c8e0",
   "metadata": {},
   "source": [
    "\"\"\" Python support Imperative ,Functional and Object Oriented programming support\"\"\""
   ]
  },
  {
   "cell_type": "markdown",
   "id": "86aedc46-e458-43dc-b32c-5aed87073ec3",
   "metadata": {},
   "source": [
    "# Qn 3"
   ]
  },
  {
   "cell_type": "markdown",
   "id": "785018e3-d129-4ddc-a7a2-fc56d642d8ab",
   "metadata": {},
   "source": [
    "\"\"\" Yes, python is case sensitive when dealing with identifier \"\"\""
   ]
  },
  {
   "cell_type": "markdown",
   "id": "11f5a9be-bd98-45df-aa74-4336fac6a46e",
   "metadata": {},
   "source": [
    "# Qn 4"
   ]
  },
  {
   "cell_type": "markdown",
   "id": "1e001c80-fa81-432c-9276-3be459ded043",
   "metadata": {},
   "source": [
    "\"\"\" The correct extension of python file is .py \"\"\""
   ]
  },
  {
   "cell_type": "markdown",
   "id": "fdad0aff-7749-4ee8-8787-0f40c9456c71",
   "metadata": {},
   "source": [
    "# Qn 5"
   ]
  },
  {
   "cell_type": "markdown",
   "id": "d280610b-2412-495e-b3b3-a58d7a0a5a93",
   "metadata": {},
   "source": [
    "\"\"\" Python is a interpreted language, which can takes a single line as a code\"\"\""
   ]
  },
  {
   "cell_type": "markdown",
   "id": "84d25412-84d0-4eb4-9d82-5760331c7887",
   "metadata": {},
   "source": [
    "# Qn 6"
   ]
  },
  {
   "cell_type": "markdown",
   "id": "4b708768-9474-463d-81aa-617308088b07",
   "metadata": {},
   "source": [
    "\"\"\" Block of code used to define in programming language are module,function body,and class definition\"\"\""
   ]
  },
  {
   "cell_type": "markdown",
   "id": "2219e417-99d9-41b5-8d6d-b09a10669fea",
   "metadata": {},
   "source": [
    "# Qn 7"
   ]
  },
  {
   "cell_type": "markdown",
   "id": "c4a9a0fe-b349-4739-8c4c-143aee792b39",
   "metadata": {},
   "source": [
    "\"\"\" # is used for single line comment in python\"\"\""
   ]
  },
  {
   "cell_type": "markdown",
   "id": "1efb56db-b6a7-475b-a850-8269d6570080",
   "metadata": {},
   "source": [
    "# Qn 8"
   ]
  },
  {
   "cell_type": "markdown",
   "id": "ea663f48-f174-4363-ba2e-5daa77da1116",
   "metadata": {},
   "source": [
    "\"\"\" Python 3.0 is the current version that we are working on\"\"\""
   ]
  },
  {
   "cell_type": "code",
   "execution_count": null,
   "id": "d4ff7e19-587b-4ee4-8fe4-f5c5652a029b",
   "metadata": {},
   "outputs": [],
   "source": []
  },
  {
   "cell_type": "code",
   "execution_count": null,
   "id": "5813178e-a1de-4a12-ae79-0d503b51f29f",
   "metadata": {},
   "outputs": [],
   "source": []
  },
  {
   "cell_type": "markdown",
   "id": "9622f4de-1cc8-4d2b-b91a-b83dc931c918",
   "metadata": {},
   "source": [
    "# Qn 10"
   ]
  },
  {
   "cell_type": "markdown",
   "id": "be24cf43-2d94-40db-9eb4-e9dbcaf939b9",
   "metadata": {},
   "source": [
    "\"\"\" pip stands for Preferred Installer Program \"\"\""
   ]
  },
  {
   "cell_type": "markdown",
   "id": "1ce8b0d6-2b9c-49f2-a6d9-f9ed5e21adae",
   "metadata": {},
   "source": [
    "# Qn 11"
   ]
  },
  {
   "cell_type": "markdown",
   "id": "685f3a96-1ddc-4503-9bc4-cd3a267f1d17",
   "metadata": {},
   "source": [
    "\"\"\" Some of the Built in functions in python are int(),str(),type(),float(),input(),print(),append(),tuple(),set{},list[] \"\"\""
   ]
  },
  {
   "cell_type": "markdown",
   "id": "55a051ab-4931-4d0b-a40e-fd7fc71f628b",
   "metadata": {},
   "source": [
    "# Qn 12"
   ]
  },
  {
   "cell_type": "markdown",
   "id": "d3590a2b-c93e-41e5-bda5-052dab4abb75",
   "metadata": {},
   "source": [
    "\"\"\" An identifier can have a maximum of 79 characters\"\"\""
   ]
  },
  {
   "cell_type": "markdown",
   "id": "bb2ce019-ab9d-499b-9691-fd68be8fd0a7",
   "metadata": {},
   "source": [
    "# Qn 13"
   ]
  },
  {
   "cell_type": "code",
   "execution_count": null,
   "id": "84883713-2117-45c2-b0ad-811eed75ec61",
   "metadata": {},
   "outputs": [],
   "source": [
    "\"\"\" Python is used in \n",
    "        Data Science\n",
    "        Web Development\n",
    "        Computer graphics \n",
    "        Finance and trading \"\"\"\n",
    "        "
   ]
  },
  {
   "cell_type": "markdown",
   "id": "5f8d3c06-2375-4601-9879-4b8f9051de20",
   "metadata": {},
   "source": [
    "# Qn 14"
   ]
  },
  {
   "cell_type": "code",
   "execution_count": null,
   "id": "5c914ffa-4839-4558-8923-5ce52062ede7",
   "metadata": {},
   "outputs": [],
   "source": [
    "\"\"\" Memory management in python involves "
   ]
  },
  {
   "cell_type": "code",
   "execution_count": null,
   "id": "e9a3ef96-c250-4712-829d-7d51091b75e1",
   "metadata": {},
   "outputs": [],
   "source": []
  },
  {
   "cell_type": "markdown",
   "id": "a04169b3-12a5-438d-b21d-2da32f65f708",
   "metadata": {},
   "source": [
    "# Qn 15"
   ]
  },
  {
   "cell_type": "markdown",
   "id": "226bfb4c-701a-43a9-a9e1-cbe9ca6943a1",
   "metadata": {},
   "source": [
    "\"\"\"To install the python,\n",
    "    1. Python can be installed directly from the browser \n",
    "    2. Double click the downloaded file and install python for all user and ensure that python is added to your path.\n",
    "  To set path variables, \n",
    "    1.in the controll panel ,double click the system and select the advanced tab\n",
    "    2.click environment variables\n",
    "    3. in the edit system variable ,specify the value of the Path environment variables \"\"\"\n",
    "    "
   ]
  },
  {
   "cell_type": "markdown",
   "id": "b4e12f98-bffc-4f61-9e07-f2fc4029f74d",
   "metadata": {},
   "source": [
    "# Qn 16"
   ]
  },
  {
   "cell_type": "code",
   "execution_count": null,
   "id": "899fd519-d6a4-4e97-ba5b-5e45cc08e80b",
   "metadata": {},
   "outputs": [],
   "source": [
    "\"\"\" Indentation plays an important role in Python \"\"\""
   ]
  }
 ],
 "metadata": {
  "kernelspec": {
   "display_name": "Python 3 (ipykernel)",
   "language": "python",
   "name": "python3"
  },
  "language_info": {
   "codemirror_mode": {
    "name": "ipython",
    "version": 3
   },
   "file_extension": ".py",
   "mimetype": "text/x-python",
   "name": "python",
   "nbconvert_exporter": "python",
   "pygments_lexer": "ipython3",
   "version": "3.10.8"
  }
 },
 "nbformat": 4,
 "nbformat_minor": 5
}
